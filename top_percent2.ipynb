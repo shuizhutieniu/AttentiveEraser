{
 "cells": [
  {
   "cell_type": "code",
   "execution_count": 1,
   "metadata": {},
   "outputs": [
    {
     "name": "stdout",
     "output_type": "stream",
     "text": [
      "原始tensor:\n",
      "tensor([[ 1.2000,  2.0000,  3.0000,  4.0000],\n",
      "        [ 5.0000,  6.0000,  7.0000,  8.0000],\n",
      "        [ 9.0000, 10.0000, 11.0000, 12.0000],\n",
      "        [13.0000, 14.0000, 15.0000, 16.0000]])\n",
      "\n",
      "修改后的tensor:\n",
      "tensor([[ 1.2000,  2.0000,  3.0000,  4.0000],\n",
      "        [ 5.0000,  6.0000,  7.0000,  8.0000],\n",
      "        [ 9.0000, 10.0000, 11.0000, 12.0000],\n",
      "        [ 0.0000,  0.0000,  0.0000,  0.0000]])\n"
     ]
    }
   ],
   "source": [
    "import torch\n",
    "\n",
    "def zero_top_percent(tensor, percent):\n",
    "    \"\"\"\n",
    "    将输入的二维torch.Tensor中数值大小在总体的前percent%的那些点都变成0。\n",
    "\n",
    "    参数:\n",
    "    - tensor: 二维的n*n的torch.Tensor。\n",
    "    - percent: 一个百分比，决定了需要将多少比例的最大值变为0。\n",
    "\n",
    "    返回:\n",
    "    - 一个新的二维torch.Tensor，其中指定百分比的最大值已经被设置为0。\n",
    "    \"\"\"\n",
    "    # 确保输入是二维的\n",
    "    if tensor.dim() != 2:\n",
    "        raise ValueError(\"输入必须是一个二维的torch.Tensor。\")\n",
    "\n",
    "    # 将tensor展平并排序\n",
    "    flat_tensor = tensor.flatten()\n",
    "    sorted_tensor, indices = torch.sort(flat_tensor, descending=True)\n",
    "    \n",
    "    # 计算需要变为0的元素数量\n",
    "    num_elements_to_zero = int(len(flat_tensor) * percent / 100)\n",
    "    \n",
    "    # 获取需要变为0的元素的阈值\n",
    "    if num_elements_to_zero > 0:\n",
    "        threshold = sorted_tensor[num_elements_to_zero - 1]\n",
    "    else:\n",
    "        threshold = sorted_tensor[0] + 1  # 如果percent为0，则选择一个大于所有元素的阈值\n",
    "    \n",
    "    # 将原始tensor中所有大于等于阈值的元素设置为0\n",
    "    tensor[tensor >= threshold] = 0\n",
    "    \n",
    "    return tensor\n",
    "\n",
    "# 示例\n",
    "n = 4\n",
    "percent = 25\n",
    "tensor = torch.tensor([[1.2, 2, 3, 4],\n",
    "                       [5., 6, 7, 8],\n",
    "                       [9., 10., 11, 12],\n",
    "                       [13., 14., 15, 16]])\n",
    "\n",
    "print(\"原始tensor:\")\n",
    "print(tensor)\n",
    "\n",
    "result_tensor = zero_top_percent(tensor, percent)\n",
    "print(\"\\n修改后的tensor:\")\n",
    "print(result_tensor)\n"
   ]
  },
  {
   "cell_type": "code",
   "execution_count": 2,
   "metadata": {},
   "outputs": [],
   "source": [
    "import torch\n",
    "\n",
    "def zero_top_percent_with_mask(tensor, percent):\n",
    "    \"\"\"\n",
    "    将输入的二维torch.Tensor中数值大小在总体的前percent%的那些点都变成0，并返回一个mask，\n",
    "    其中值为True的位置表示原张量中被清零的位置。\n",
    "\n",
    "    参数:\n",
    "    - tensor: 二维的n*n的torch.Tensor。\n",
    "    - percent: 一个百分比，决定了需要将多少比例的最大值变为0。\n",
    "\n",
    "    返回:\n",
    "    - modified_tensor: 修改后的二维torch.Tensor。\n",
    "    - mask: 一个布尔型的二维torch.Tensor，其中True的位置表示原张量中被清零的位置。\n",
    "    \"\"\"\n",
    "    if tensor.dim() != 2:\n",
    "        raise ValueError(\"输入必须是一个二维的torch.Tensor。\")\n",
    "\n",
    "    flat_tensor = tensor.flatten()\n",
    "    sorted_tensor, indices = torch.sort(flat_tensor, descending=True)\n",
    "    \n",
    "    num_elements_to_zero = int(len(flat_tensor) * percent / 100)\n",
    "    \n",
    "    if num_elements_to_zero > 0:\n",
    "        threshold = sorted_tensor[num_elements_to_zero - 1]\n",
    "    else:\n",
    "        threshold = sorted_tensor[0] + 1\n",
    "    \n",
    "    mask = tensor >= threshold\n",
    "    modified_tensor = tensor.clone()\n",
    "    modified_tensor[mask] = 1\n",
    "    \n",
    "    return modified_tensor, mask\n",
    "\n",
    "# 示例\n",
    "n = 4\n",
    "percent = 25\n",
    "tensor = torch.tensor([[1, 2, 3, 4],\n",
    "                       [5, 6, 7, 8],\n",
    "                       [9, 10, 11, 12],\n",
    "                       [13, 14, 15, 16]], dtype=torch.float32)"
   ]
  },
  {
   "cell_type": "code",
   "execution_count": 3,
   "metadata": {},
   "outputs": [],
   "source": [
    "def flatten_and_std(tensor):\n",
    "    \"\"\"\n",
    "    接受一个二维的PyTorch张量，将其拉直成一个向量，然后计算这个向量的标准差。\n",
    "\n",
    "    参数:\n",
    "        tensor (torch.Tensor): 输入的二维张量。\n",
    "\n",
    "    返回:\n",
    "        float: 计算得到的标准差。\n",
    "    \"\"\"\n",
    "    # 将张量拉直\n",
    "    flat_tensor = tensor.flatten()\n",
    "    \n",
    "    # 计算标准差\n",
    "    std_dev = flat_tensor.std()\n",
    "\n",
    "    return float(std_dev)"
   ]
  },
  {
   "cell_type": "code",
   "execution_count": 4,
   "metadata": {},
   "outputs": [],
   "source": [
    "import os\n",
    "import pickle\n",
    "\n",
    "def save_as_pkl(var, file_name: str = \"output\"):\n",
    "    original_file_name = file_name\n",
    "    counter = 1\n",
    "    # 检查文件是否存在，如果存在，尝试增加数字直到找到一个不存在的文件名\n",
    "    while os.path.exists(f\"{file_name}.pkl\"):\n",
    "        counter += 1\n",
    "        file_name = f\"{original_file_name}({counter})\"\n",
    "    with open(f\"{file_name}.pkl\", 'wb') as file:\n",
    "        pickle.dump(var, file)"
   ]
  },
  {
   "cell_type": "code",
   "execution_count": 5,
   "metadata": {},
   "outputs": [],
   "source": [
    "from RemoveObjs.tools import load_from_pkl,plot_tensors_heatmaps"
   ]
  },
  {
   "cell_type": "code",
   "execution_count": 6,
   "metadata": {},
   "outputs": [
    {
     "data": {
      "image/png": "[encoded data removed]",
      "text/plain": [
       "<Figure size 1000x1000 with 4 Axes>"
      ]
     },
     "metadata": {},
     "output_type": "display_data"
    }
   ],
   "source": [
    "latents_40 = load_from_pkl(file_name=\"pkls_2/[32, 32, 77]_40 \")\n",
    "\n",
    "modified_tensor, mask = zero_top_percent_with_mask(latents_40[:,:,5], 2.3)\n",
    "\n",
    "plot_tensors_heatmaps(*(latents_40[:,:,5], modified_tensor), figsize=(10,10))\n",
    "\n",
    "# save_as_pkl(mask,file_name=\"32\")"
   ]
  },
  {
   "cell_type": "code",
   "execution_count": 7,
   "metadata": {},
   "outputs": [
    {
     "data": {
      "image/png": "[encoded data removed]",
      "text/plain": [
       "<Figure size 1000x1000 with 4 Axes>"
      ]
     },
     "metadata": {},
     "output_type": "display_data"
    }
   ],
   "source": [
    "latents_40 = load_from_pkl(file_name=\"pkls_2/[16, 16, 77]_40 (5)\")\n",
    "\n",
    "modified_tensor, mask = zero_top_percent_with_mask(latents_40[:,:,5],3)\n",
    "\n",
    "plot_tensors_heatmaps(*(latents_40[:,:,5],modified_tensor),figsize=(10,10))\n",
    "\n",
    "# save_as_pkl(mask,file_name=\"16\")\n"
   ]
  }
 ],
 "metadata": {
  "kernelspec": {
   "display_name": "Python 3",
   "language": "python",
   "name": "python3"
  },
  "language_info": {
   "codemirror_mode": {
    "name": "ipython",
    "version": 3
   },
   "file_extension": ".py",
   "mimetype": "text/x-python",
   "name": "python",
   "nbconvert_exporter": "python",
   "pygments_lexer": "ipython3",
   "version": "3.11.3"
  }
 },
 "nbformat": 4,
 "nbformat_minor": 2
}
